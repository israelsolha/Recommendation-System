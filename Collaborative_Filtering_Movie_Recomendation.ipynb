{
 "cells": [
  {
   "cell_type": "markdown",
   "metadata": {},
   "source": [
    "# Movie Recommendation System"
   ]
  },
  {
   "cell_type": "markdown",
   "metadata": {},
   "source": [
    "### Importing necessary libraries"
   ]
  },
  {
   "cell_type": "code",
   "execution_count": 1,
   "metadata": {},
   "outputs": [],
   "source": [
    "import pandas as pd\n",
    "import numpy as np\n",
    "import os\n",
    "from sklearn.utils import shuffle\n",
    "from sortedcontainers import SortedList"
   ]
  },
  {
   "cell_type": "markdown",
   "metadata": {},
   "source": [
    "### Reading the CSV file"
   ]
  },
  {
   "cell_type": "code",
   "execution_count": 2,
   "metadata": {},
   "outputs": [],
   "source": [
    "#os.chdir('../movielens-20m-dataset')"
   ]
  },
  {
   "cell_type": "code",
   "execution_count": 3,
   "metadata": {},
   "outputs": [],
   "source": [
    "df = pd.read_csv('rating.csv')"
   ]
  },
  {
   "cell_type": "markdown",
   "metadata": {},
   "source": [
    "### Exploring the DataFrame"
   ]
  },
  {
   "cell_type": "code",
   "execution_count": 4,
   "metadata": {},
   "outputs": [
    {
     "data": {
      "text/html": [
       "<div>\n",
       "<style scoped>\n",
       "    .dataframe tbody tr th:only-of-type {\n",
       "        vertical-align: middle;\n",
       "    }\n",
       "\n",
       "    .dataframe tbody tr th {\n",
       "        vertical-align: top;\n",
       "    }\n",
       "\n",
       "    .dataframe thead th {\n",
       "        text-align: right;\n",
       "    }\n",
       "</style>\n",
       "<table border=\"1\" class=\"dataframe\">\n",
       "  <thead>\n",
       "    <tr style=\"text-align: right;\">\n",
       "      <th></th>\n",
       "      <th>userId</th>\n",
       "      <th>movieId</th>\n",
       "      <th>rating</th>\n",
       "      <th>timestamp</th>\n",
       "    </tr>\n",
       "  </thead>\n",
       "  <tbody>\n",
       "    <tr>\n",
       "      <th>0</th>\n",
       "      <td>1</td>\n",
       "      <td>2</td>\n",
       "      <td>3.5</td>\n",
       "      <td>2005-04-02 23:53:47</td>\n",
       "    </tr>\n",
       "    <tr>\n",
       "      <th>1</th>\n",
       "      <td>1</td>\n",
       "      <td>29</td>\n",
       "      <td>3.5</td>\n",
       "      <td>2005-04-02 23:31:16</td>\n",
       "    </tr>\n",
       "    <tr>\n",
       "      <th>2</th>\n",
       "      <td>1</td>\n",
       "      <td>32</td>\n",
       "      <td>3.5</td>\n",
       "      <td>2005-04-02 23:33:39</td>\n",
       "    </tr>\n",
       "    <tr>\n",
       "      <th>3</th>\n",
       "      <td>1</td>\n",
       "      <td>47</td>\n",
       "      <td>3.5</td>\n",
       "      <td>2005-04-02 23:32:07</td>\n",
       "    </tr>\n",
       "    <tr>\n",
       "      <th>4</th>\n",
       "      <td>1</td>\n",
       "      <td>50</td>\n",
       "      <td>3.5</td>\n",
       "      <td>2005-04-02 23:29:40</td>\n",
       "    </tr>\n",
       "  </tbody>\n",
       "</table>\n",
       "</div>"
      ],
      "text/plain": [
       "   userId  movieId  rating            timestamp\n",
       "0       1        2     3.5  2005-04-02 23:53:47\n",
       "1       1       29     3.5  2005-04-02 23:31:16\n",
       "2       1       32     3.5  2005-04-02 23:33:39\n",
       "3       1       47     3.5  2005-04-02 23:32:07\n",
       "4       1       50     3.5  2005-04-02 23:29:40"
      ]
     },
     "execution_count": 4,
     "metadata": {},
     "output_type": "execute_result"
    }
   ],
   "source": [
    "df.head()"
   ]
  },
  {
   "cell_type": "code",
   "execution_count": 5,
   "metadata": {},
   "outputs": [
    {
     "data": {
      "text/html": [
       "<div>\n",
       "<style scoped>\n",
       "    .dataframe tbody tr th:only-of-type {\n",
       "        vertical-align: middle;\n",
       "    }\n",
       "\n",
       "    .dataframe tbody tr th {\n",
       "        vertical-align: top;\n",
       "    }\n",
       "\n",
       "    .dataframe thead th {\n",
       "        text-align: right;\n",
       "    }\n",
       "</style>\n",
       "<table border=\"1\" class=\"dataframe\">\n",
       "  <thead>\n",
       "    <tr style=\"text-align: right;\">\n",
       "      <th></th>\n",
       "      <th>userId</th>\n",
       "      <th>movieId</th>\n",
       "      <th>rating</th>\n",
       "    </tr>\n",
       "  </thead>\n",
       "  <tbody>\n",
       "    <tr>\n",
       "      <th>count</th>\n",
       "      <td>2.000026e+07</td>\n",
       "      <td>2.000026e+07</td>\n",
       "      <td>2.000026e+07</td>\n",
       "    </tr>\n",
       "    <tr>\n",
       "      <th>mean</th>\n",
       "      <td>6.904587e+04</td>\n",
       "      <td>9.041567e+03</td>\n",
       "      <td>3.525529e+00</td>\n",
       "    </tr>\n",
       "    <tr>\n",
       "      <th>std</th>\n",
       "      <td>4.003863e+04</td>\n",
       "      <td>1.978948e+04</td>\n",
       "      <td>1.051989e+00</td>\n",
       "    </tr>\n",
       "    <tr>\n",
       "      <th>min</th>\n",
       "      <td>1.000000e+00</td>\n",
       "      <td>1.000000e+00</td>\n",
       "      <td>5.000000e-01</td>\n",
       "    </tr>\n",
       "    <tr>\n",
       "      <th>25%</th>\n",
       "      <td>3.439500e+04</td>\n",
       "      <td>9.020000e+02</td>\n",
       "      <td>3.000000e+00</td>\n",
       "    </tr>\n",
       "    <tr>\n",
       "      <th>50%</th>\n",
       "      <td>6.914100e+04</td>\n",
       "      <td>2.167000e+03</td>\n",
       "      <td>3.500000e+00</td>\n",
       "    </tr>\n",
       "    <tr>\n",
       "      <th>75%</th>\n",
       "      <td>1.036370e+05</td>\n",
       "      <td>4.770000e+03</td>\n",
       "      <td>4.000000e+00</td>\n",
       "    </tr>\n",
       "    <tr>\n",
       "      <th>max</th>\n",
       "      <td>1.384930e+05</td>\n",
       "      <td>1.312620e+05</td>\n",
       "      <td>5.000000e+00</td>\n",
       "    </tr>\n",
       "  </tbody>\n",
       "</table>\n",
       "</div>"
      ],
      "text/plain": [
       "             userId       movieId        rating\n",
       "count  2.000026e+07  2.000026e+07  2.000026e+07\n",
       "mean   6.904587e+04  9.041567e+03  3.525529e+00\n",
       "std    4.003863e+04  1.978948e+04  1.051989e+00\n",
       "min    1.000000e+00  1.000000e+00  5.000000e-01\n",
       "25%    3.439500e+04  9.020000e+02  3.000000e+00\n",
       "50%    6.914100e+04  2.167000e+03  3.500000e+00\n",
       "75%    1.036370e+05  4.770000e+03  4.000000e+00\n",
       "max    1.384930e+05  1.312620e+05  5.000000e+00"
      ]
     },
     "execution_count": 5,
     "metadata": {},
     "output_type": "execute_result"
    }
   ],
   "source": [
    "df.describe()"
   ]
  },
  {
   "cell_type": "code",
   "execution_count": 6,
   "metadata": {},
   "outputs": [],
   "source": [
    "n_users = df.userId.nunique()"
   ]
  },
  {
   "cell_type": "code",
   "execution_count": 7,
   "metadata": {},
   "outputs": [],
   "source": [
    "n_movies = df.movieId.nunique()"
   ]
  },
  {
   "cell_type": "code",
   "execution_count": 8,
   "metadata": {},
   "outputs": [
    {
     "data": {
      "text/plain": [
       "3703856792"
      ]
     },
     "execution_count": 8,
     "metadata": {},
     "output_type": "execute_result"
    }
   ],
   "source": [
    "n_users*n_movies"
   ]
  },
  {
   "cell_type": "markdown",
   "metadata": {},
   "source": [
    "### Data Preprocessing"
   ]
  },
  {
   "cell_type": "code",
   "execution_count": 9,
   "metadata": {},
   "outputs": [],
   "source": [
    "# Making sure that userId indexes start at 1\n",
    "# The maximum userId Value from the describe function equals the unique number of IDs, so they are sequential\n",
    "df.userId = df.userId - 1"
   ]
  },
  {
   "cell_type": "code",
   "execution_count": 10,
   "metadata": {},
   "outputs": [
    {
     "data": {
      "text/html": [
       "<div>\n",
       "<style scoped>\n",
       "    .dataframe tbody tr th:only-of-type {\n",
       "        vertical-align: middle;\n",
       "    }\n",
       "\n",
       "    .dataframe tbody tr th {\n",
       "        vertical-align: top;\n",
       "    }\n",
       "\n",
       "    .dataframe thead th {\n",
       "        text-align: right;\n",
       "    }\n",
       "</style>\n",
       "<table border=\"1\" class=\"dataframe\">\n",
       "  <thead>\n",
       "    <tr style=\"text-align: right;\">\n",
       "      <th></th>\n",
       "      <th>userId</th>\n",
       "      <th>movieId</th>\n",
       "      <th>rating</th>\n",
       "      <th>timestamp</th>\n",
       "    </tr>\n",
       "  </thead>\n",
       "  <tbody>\n",
       "    <tr>\n",
       "      <th>0</th>\n",
       "      <td>0</td>\n",
       "      <td>2</td>\n",
       "      <td>3.5</td>\n",
       "      <td>2005-04-02 23:53:47</td>\n",
       "    </tr>\n",
       "    <tr>\n",
       "      <th>1</th>\n",
       "      <td>0</td>\n",
       "      <td>29</td>\n",
       "      <td>3.5</td>\n",
       "      <td>2005-04-02 23:31:16</td>\n",
       "    </tr>\n",
       "    <tr>\n",
       "      <th>2</th>\n",
       "      <td>0</td>\n",
       "      <td>32</td>\n",
       "      <td>3.5</td>\n",
       "      <td>2005-04-02 23:33:39</td>\n",
       "    </tr>\n",
       "    <tr>\n",
       "      <th>3</th>\n",
       "      <td>0</td>\n",
       "      <td>47</td>\n",
       "      <td>3.5</td>\n",
       "      <td>2005-04-02 23:32:07</td>\n",
       "    </tr>\n",
       "    <tr>\n",
       "      <th>4</th>\n",
       "      <td>0</td>\n",
       "      <td>50</td>\n",
       "      <td>3.5</td>\n",
       "      <td>2005-04-02 23:29:40</td>\n",
       "    </tr>\n",
       "  </tbody>\n",
       "</table>\n",
       "</div>"
      ],
      "text/plain": [
       "   userId  movieId  rating            timestamp\n",
       "0       0        2     3.5  2005-04-02 23:53:47\n",
       "1       0       29     3.5  2005-04-02 23:31:16\n",
       "2       0       32     3.5  2005-04-02 23:33:39\n",
       "3       0       47     3.5  2005-04-02 23:32:07\n",
       "4       0       50     3.5  2005-04-02 23:29:40"
      ]
     },
     "execution_count": 10,
     "metadata": {},
     "output_type": "execute_result"
    }
   ],
   "source": [
    "df.head()"
   ]
  },
  {
   "cell_type": "code",
   "execution_count": 11,
   "metadata": {},
   "outputs": [],
   "source": [
    "# Making sure that movieId are sequential\n",
    "# The maximum movieId value from the descrive function does'nt match the number of unique IDs, so they are NOT seq.\n",
    "\n",
    "# First step: Getting the unique values from movieIds\n",
    "uniq_mov_id = set(df.movieId)\n",
    "\n",
    "# Second step: Creating a dictionary that matches old Id values with sequential values.\n",
    "mov_dic = {}\n",
    "count = 0\n",
    "for mov_id in uniq_mov_id:\n",
    "    mov_dic[mov_id] = count\n",
    "    count+=1\n",
    "\n",
    "# Third step: Mapping the old values to the new sequential values\n",
    "new_values = []\n",
    "for old_val in df.movieId.values:\n",
    "    new_values.append(mov_dic[old_val])\n",
    "\n",
    "df['seq_movieId'] = new_values"
   ]
  },
  {
   "cell_type": "code",
   "execution_count": 12,
   "metadata": {},
   "outputs": [
    {
     "data": {
      "text/html": [
       "<div>\n",
       "<style scoped>\n",
       "    .dataframe tbody tr th:only-of-type {\n",
       "        vertical-align: middle;\n",
       "    }\n",
       "\n",
       "    .dataframe tbody tr th {\n",
       "        vertical-align: top;\n",
       "    }\n",
       "\n",
       "    .dataframe thead th {\n",
       "        text-align: right;\n",
       "    }\n",
       "</style>\n",
       "<table border=\"1\" class=\"dataframe\">\n",
       "  <thead>\n",
       "    <tr style=\"text-align: right;\">\n",
       "      <th></th>\n",
       "      <th>userId</th>\n",
       "      <th>movieId</th>\n",
       "      <th>rating</th>\n",
       "      <th>timestamp</th>\n",
       "      <th>seq_movieId</th>\n",
       "    </tr>\n",
       "  </thead>\n",
       "  <tbody>\n",
       "    <tr>\n",
       "      <th>0</th>\n",
       "      <td>0</td>\n",
       "      <td>2</td>\n",
       "      <td>3.5</td>\n",
       "      <td>2005-04-02 23:53:47</td>\n",
       "      <td>2</td>\n",
       "    </tr>\n",
       "    <tr>\n",
       "      <th>1</th>\n",
       "      <td>0</td>\n",
       "      <td>29</td>\n",
       "      <td>3.5</td>\n",
       "      <td>2005-04-02 23:31:16</td>\n",
       "      <td>29</td>\n",
       "    </tr>\n",
       "    <tr>\n",
       "      <th>2</th>\n",
       "      <td>0</td>\n",
       "      <td>32</td>\n",
       "      <td>3.5</td>\n",
       "      <td>2005-04-02 23:33:39</td>\n",
       "      <td>32</td>\n",
       "    </tr>\n",
       "    <tr>\n",
       "      <th>3</th>\n",
       "      <td>0</td>\n",
       "      <td>47</td>\n",
       "      <td>3.5</td>\n",
       "      <td>2005-04-02 23:32:07</td>\n",
       "      <td>47</td>\n",
       "    </tr>\n",
       "    <tr>\n",
       "      <th>4</th>\n",
       "      <td>0</td>\n",
       "      <td>50</td>\n",
       "      <td>3.5</td>\n",
       "      <td>2005-04-02 23:29:40</td>\n",
       "      <td>50</td>\n",
       "    </tr>\n",
       "  </tbody>\n",
       "</table>\n",
       "</div>"
      ],
      "text/plain": [
       "   userId  movieId  rating            timestamp  seq_movieId\n",
       "0       0        2     3.5  2005-04-02 23:53:47            2\n",
       "1       0       29     3.5  2005-04-02 23:31:16           29\n",
       "2       0       32     3.5  2005-04-02 23:33:39           32\n",
       "3       0       47     3.5  2005-04-02 23:32:07           47\n",
       "4       0       50     3.5  2005-04-02 23:29:40           50"
      ]
     },
     "execution_count": 12,
     "metadata": {},
     "output_type": "execute_result"
    }
   ],
   "source": [
    "df.head()"
   ]
  },
  {
   "cell_type": "markdown",
   "metadata": {},
   "source": [
    "### Dropping the irrelevant (in this experiment) timestamp column"
   ]
  },
  {
   "cell_type": "code",
   "execution_count": 13,
   "metadata": {},
   "outputs": [
    {
     "data": {
      "text/html": [
       "<div>\n",
       "<style scoped>\n",
       "    .dataframe tbody tr th:only-of-type {\n",
       "        vertical-align: middle;\n",
       "    }\n",
       "\n",
       "    .dataframe tbody tr th {\n",
       "        vertical-align: top;\n",
       "    }\n",
       "\n",
       "    .dataframe thead th {\n",
       "        text-align: right;\n",
       "    }\n",
       "</style>\n",
       "<table border=\"1\" class=\"dataframe\">\n",
       "  <thead>\n",
       "    <tr style=\"text-align: right;\">\n",
       "      <th></th>\n",
       "      <th>userId</th>\n",
       "      <th>movieId</th>\n",
       "      <th>rating</th>\n",
       "      <th>seq_movieId</th>\n",
       "    </tr>\n",
       "  </thead>\n",
       "  <tbody>\n",
       "    <tr>\n",
       "      <th>0</th>\n",
       "      <td>0</td>\n",
       "      <td>2</td>\n",
       "      <td>3.5</td>\n",
       "      <td>2</td>\n",
       "    </tr>\n",
       "    <tr>\n",
       "      <th>1</th>\n",
       "      <td>0</td>\n",
       "      <td>29</td>\n",
       "      <td>3.5</td>\n",
       "      <td>29</td>\n",
       "    </tr>\n",
       "    <tr>\n",
       "      <th>2</th>\n",
       "      <td>0</td>\n",
       "      <td>32</td>\n",
       "      <td>3.5</td>\n",
       "      <td>32</td>\n",
       "    </tr>\n",
       "    <tr>\n",
       "      <th>3</th>\n",
       "      <td>0</td>\n",
       "      <td>47</td>\n",
       "      <td>3.5</td>\n",
       "      <td>47</td>\n",
       "    </tr>\n",
       "    <tr>\n",
       "      <th>4</th>\n",
       "      <td>0</td>\n",
       "      <td>50</td>\n",
       "      <td>3.5</td>\n",
       "      <td>50</td>\n",
       "    </tr>\n",
       "    <tr>\n",
       "      <th>...</th>\n",
       "      <td>...</td>\n",
       "      <td>...</td>\n",
       "      <td>...</td>\n",
       "      <td>...</td>\n",
       "    </tr>\n",
       "    <tr>\n",
       "      <th>20000258</th>\n",
       "      <td>138492</td>\n",
       "      <td>68954</td>\n",
       "      <td>4.5</td>\n",
       "      <td>13821</td>\n",
       "    </tr>\n",
       "    <tr>\n",
       "      <th>20000259</th>\n",
       "      <td>138492</td>\n",
       "      <td>69526</td>\n",
       "      <td>4.5</td>\n",
       "      <td>13929</td>\n",
       "    </tr>\n",
       "    <tr>\n",
       "      <th>20000260</th>\n",
       "      <td>138492</td>\n",
       "      <td>69644</td>\n",
       "      <td>3.0</td>\n",
       "      <td>13942</td>\n",
       "    </tr>\n",
       "    <tr>\n",
       "      <th>20000261</th>\n",
       "      <td>138492</td>\n",
       "      <td>70286</td>\n",
       "      <td>5.0</td>\n",
       "      <td>14060</td>\n",
       "    </tr>\n",
       "    <tr>\n",
       "      <th>20000262</th>\n",
       "      <td>138492</td>\n",
       "      <td>71619</td>\n",
       "      <td>2.5</td>\n",
       "      <td>14344</td>\n",
       "    </tr>\n",
       "  </tbody>\n",
       "</table>\n",
       "<p>20000263 rows × 4 columns</p>\n",
       "</div>"
      ],
      "text/plain": [
       "          userId  movieId  rating  seq_movieId\n",
       "0              0        2     3.5            2\n",
       "1              0       29     3.5           29\n",
       "2              0       32     3.5           32\n",
       "3              0       47     3.5           47\n",
       "4              0       50     3.5           50\n",
       "...          ...      ...     ...          ...\n",
       "20000258  138492    68954     4.5        13821\n",
       "20000259  138492    69526     4.5        13929\n",
       "20000260  138492    69644     3.0        13942\n",
       "20000261  138492    70286     5.0        14060\n",
       "20000262  138492    71619     2.5        14344\n",
       "\n",
       "[20000263 rows x 4 columns]"
      ]
     },
     "execution_count": 13,
     "metadata": {},
     "output_type": "execute_result"
    }
   ],
   "source": [
    "df.drop('timestamp',axis=1)"
   ]
  },
  {
   "cell_type": "markdown",
   "metadata": {},
   "source": [
    "### Saving the Preprocessed DataFrame into a CSV file"
   ]
  },
  {
   "cell_type": "code",
   "execution_count": 14,
   "metadata": {},
   "outputs": [],
   "source": [
    "df.to_csv('edited_rating.csv')"
   ]
  },
  {
   "cell_type": "markdown",
   "metadata": {},
   "source": [
    "### Shrinking the DataFrame into most active users and most rated movies"
   ]
  },
  {
   "cell_type": "code",
   "execution_count": 15,
   "metadata": {},
   "outputs": [],
   "source": [
    "# 1000 most rated movies\n",
    "movies_id = df.seq_movieId.value_counts()[:1000].index.tolist()"
   ]
  },
  {
   "cell_type": "code",
   "execution_count": 16,
   "metadata": {},
   "outputs": [],
   "source": [
    "# 500 most active users\n",
    "users_id = df.userId.value_counts()[:500].index.tolist()"
   ]
  },
  {
   "cell_type": "code",
   "execution_count": 17,
   "metadata": {},
   "outputs": [],
   "source": [
    "small_df = df[df.userId.isin(users_id) & df.seq_movieId.isin(movies_id)].copy()"
   ]
  },
  {
   "cell_type": "code",
   "execution_count": 18,
   "metadata": {},
   "outputs": [],
   "source": [
    "# Once again, remapping both users and movies to start at 0 and to be sequential\n",
    "\n",
    "small_unique_users = set(small_df['userId'])\n",
    "small_users_dic = {}\n",
    "count = 0\n",
    "for user in small_unique_users:\n",
    "    small_users_dic[user] = count\n",
    "    count+=1\n",
    "    \n",
    "new_users = []\n",
    "for old_val in small_df.userId.values:\n",
    "    new_users.append(small_users_dic[old_val])\n",
    "\n",
    "small_df['userId'] = new_users\n",
    "    \n",
    "small_unique_movies = set(small_df['seq_movieId'])\n",
    "small_movies_dic = {}\n",
    "count = 0\n",
    "for movies in small_unique_movies:\n",
    "    small_movies_dic[movies] = count\n",
    "    count+=1\n",
    "    \n",
    "new_movies = []\n",
    "for old_val in small_df.seq_movieId.values:\n",
    "    new_movies.append(small_movies_dic[old_val])\n",
    "\n",
    "small_df['seq_movieId'] = new_movies"
   ]
  },
  {
   "cell_type": "code",
   "execution_count": 19,
   "metadata": {},
   "outputs": [
    {
     "data": {
      "text/html": [
       "<div>\n",
       "<style scoped>\n",
       "    .dataframe tbody tr th:only-of-type {\n",
       "        vertical-align: middle;\n",
       "    }\n",
       "\n",
       "    .dataframe tbody tr th {\n",
       "        vertical-align: top;\n",
       "    }\n",
       "\n",
       "    .dataframe thead th {\n",
       "        text-align: right;\n",
       "    }\n",
       "</style>\n",
       "<table border=\"1\" class=\"dataframe\">\n",
       "  <thead>\n",
       "    <tr style=\"text-align: right;\">\n",
       "      <th></th>\n",
       "      <th>userId</th>\n",
       "      <th>movieId</th>\n",
       "      <th>rating</th>\n",
       "      <th>timestamp</th>\n",
       "      <th>seq_movieId</th>\n",
       "    </tr>\n",
       "  </thead>\n",
       "  <tbody>\n",
       "    <tr>\n",
       "      <th>19846</th>\n",
       "      <td>31</td>\n",
       "      <td>1</td>\n",
       "      <td>5.0</td>\n",
       "      <td>2002-11-19 20:54:26</td>\n",
       "      <td>0</td>\n",
       "    </tr>\n",
       "    <tr>\n",
       "      <th>19847</th>\n",
       "      <td>31</td>\n",
       "      <td>2</td>\n",
       "      <td>5.0</td>\n",
       "      <td>2002-12-26 21:20:49</td>\n",
       "      <td>1</td>\n",
       "    </tr>\n",
       "    <tr>\n",
       "      <th>19848</th>\n",
       "      <td>31</td>\n",
       "      <td>3</td>\n",
       "      <td>2.0</td>\n",
       "      <td>2002-12-02 03:53:45</td>\n",
       "      <td>2</td>\n",
       "    </tr>\n",
       "    <tr>\n",
       "      <th>19850</th>\n",
       "      <td>31</td>\n",
       "      <td>5</td>\n",
       "      <td>3.0</td>\n",
       "      <td>2002-12-26 23:16:23</td>\n",
       "      <td>4</td>\n",
       "    </tr>\n",
       "    <tr>\n",
       "      <th>19851</th>\n",
       "      <td>31</td>\n",
       "      <td>6</td>\n",
       "      <td>4.0</td>\n",
       "      <td>2002-11-20 19:55:17</td>\n",
       "      <td>5</td>\n",
       "    </tr>\n",
       "  </tbody>\n",
       "</table>\n",
       "</div>"
      ],
      "text/plain": [
       "       userId  movieId  rating            timestamp  seq_movieId\n",
       "19846      31        1     5.0  2002-11-19 20:54:26            0\n",
       "19847      31        2     5.0  2002-12-26 21:20:49            1\n",
       "19848      31        3     2.0  2002-12-02 03:53:45            2\n",
       "19850      31        5     3.0  2002-12-26 23:16:23            4\n",
       "19851      31        6     4.0  2002-11-20 19:55:17            5"
      ]
     },
     "execution_count": 19,
     "metadata": {},
     "output_type": "execute_result"
    }
   ],
   "source": [
    "small_df.head()"
   ]
  },
  {
   "cell_type": "markdown",
   "metadata": {},
   "source": [
    "### Saving the Shrinked DataFrame into a CSV File"
   ]
  },
  {
   "cell_type": "code",
   "execution_count": 20,
   "metadata": {},
   "outputs": [],
   "source": [
    "small_df.to_csv('small_edited_ratings.csv')"
   ]
  },
  {
   "cell_type": "markdown",
   "metadata": {},
   "source": [
    "### Separating the Data into Training and Test sets"
   ]
  },
  {
   "cell_type": "code",
   "execution_count": 21,
   "metadata": {},
   "outputs": [],
   "source": [
    "# Step 1: Shuffle the DataFrame\n",
    "small_df = shuffle(small_df)\n",
    "\n",
    "# Step 2: Determine the Train/Test split ratio\n",
    "ratio = 0.8\n",
    "cutoff = int(ratio*len(small_df))\n",
    "\n",
    "# Step 3: Create the Train and Test DataFrames\n",
    "\n",
    "df_train = small_df[:cutoff]\n",
    "df_test = small_df[cutoff:]"
   ]
  },
  {
   "cell_type": "markdown",
   "metadata": {},
   "source": [
    "### Creating dictionaries of Users that rated Movies and Movies that were rated by Users"
   ]
  },
  {
   "cell_type": "code",
   "execution_count": 22,
   "metadata": {},
   "outputs": [],
   "source": [
    "user2movie = {}\n",
    "movie2user = {}\n",
    "usermovie2rating = {}\n",
    "usermovie2rating_test = {}"
   ]
  },
  {
   "cell_type": "code",
   "execution_count": 23,
   "metadata": {},
   "outputs": [],
   "source": [
    "def fill_train(df):\n",
    "    for index, row in df.iterrows():\n",
    "        user = row.userId\n",
    "        movie = row.seq_movieId\n",
    "        rating = row.rating\n",
    "\n",
    "        if user not in user2movie:\n",
    "            user2movie[user] = [movie]\n",
    "        else:\n",
    "            user2movie[user].append(movie)\n",
    "\n",
    "        if movie not in movie2user:\n",
    "            movie2user[movie] = [user]\n",
    "        else:\n",
    "            movie2user[movie].append(user)\n",
    "\n",
    "        usermovie2rating[(user,movie)] = rating\n",
    "\n",
    "fill_train(df_train)"
   ]
  },
  {
   "cell_type": "code",
   "execution_count": 24,
   "metadata": {},
   "outputs": [],
   "source": [
    "def fill_test(df):\n",
    "    for index, row in df.iterrows():\n",
    "        user = row.userId\n",
    "        movie = row.seq_movieId\n",
    "        rating = row.rating\n",
    "\n",
    "        usermovie2rating_test[(user,movie)] = rating\n",
    "\n",
    "fill_test(df_test)"
   ]
  },
  {
   "cell_type": "code",
   "execution_count": 25,
   "metadata": {},
   "outputs": [],
   "source": [
    "N = len(set(small_df.userId.values)) # Number of unique users\n",
    "M = len(set(small_df.seq_movieId.values)) # Number of unique movies"
   ]
  },
  {
   "cell_type": "markdown",
   "metadata": {},
   "source": [
    "### Creating a User-User Collaborative Filtering"
   ]
  },
  {
   "cell_type": "code",
   "execution_count": 26,
   "metadata": {},
   "outputs": [],
   "source": [
    "K = 25 # maximum number of neighbors to be considered\n",
    "limit = 5 # minimum number of movies shared by both users\n",
    "neighbors = []\n",
    "averages = []\n",
    "deviations = []\n",
    "\n",
    "for user in range(N): # Loop through every user\n",
    "    movies_u = user2movie[user] # List of every movie watched by given user\n",
    "    movies_u_set = set(movies_u)\n",
    "    ratings_u = {movie : usermovie2rating[(user,movie)] for movie in movies_u} # Ratings of movies rated by the user\n",
    "    average_u = np.mean(list(ratings_u.values())) # User's average rating\n",
    "    dev_u = {movie: ratings_u[movie]-average_u for movie in movies_u}\n",
    "    dev_u_values = np.array(list(dev_u.values()))\n",
    "    sigma_u = np.sqrt(dev_u_values.dot(dev_u_values))\n",
    "    \n",
    "    averages.append(average_u)\n",
    "    deviations.append(dev_u)\n",
    "    \n",
    "    sl = SortedList()\n",
    "    for user2 in range(N):\n",
    "        if user != user2:\n",
    "            movies_u2 = user2movie[user2]\n",
    "            movies_u2_set = set(movies_u2)\n",
    "            common_movies = (movies_u_set & movies_u2_set)\n",
    "            if len(common_movies) > limit:\n",
    "                ratings_u2 = {movie : usermovie2rating[(user2,movie)] for movie in movies_u2}\n",
    "                average_u2 = np.mean(list(ratings_u2.values()))\n",
    "                dev_u2 = {movie: ratings_u2[movie]-average_u2 for movie in movies_u2}\n",
    "                dev_u2_values = np.array(list(dev_u2.values()))\n",
    "                sigma_u2 = np.sqrt(dev_u2_values.dot(dev_u2_values))\n",
    "            \n",
    "            # Calculating correlation coefficient\n",
    "                numerator = sum(dev_u[m]*dev_u2[m] for m in common_movies)\n",
    "                w_ij = numerator / (sigma_u*sigma_u2)\n",
    "            \n",
    "\n",
    "                sl.add((-w_ij, user2))\n",
    "                if len(sl) > K:\n",
    "                    del sl[-1]\n",
    "    neighbors.append(sl)"
   ]
  },
  {
   "cell_type": "markdown",
   "metadata": {},
   "source": [
    "### Predicting Movie Ratings"
   ]
  },
  {
   "cell_type": "code",
   "execution_count": 27,
   "metadata": {},
   "outputs": [],
   "source": [
    "def predict(user,movie):\n",
    "    # Calculating the weighted sum of deviations\n",
    "    numerator = 0\n",
    "    denominator = 0\n",
    "    for neg_w, user2 in neighbors[user]:\n",
    "        try:\n",
    "            numerator += -neg_w * deviations[user2][movie]\n",
    "            denominator += abs(neg_w)\n",
    "        except:\n",
    "            # Cases where the user2 did not rate the movie user did\n",
    "            pass\n",
    "    \n",
    "    if denominator == 0:\n",
    "        # There is no way to actually predict anything, so just use the average\n",
    "        prediction = averages[user]\n",
    "    else: \n",
    "        prediction = numerator / denominator + averages[user]\n",
    "    prediction = min(5, prediction)\n",
    "    prediction = max(0.5, prediction)\n",
    "    \n",
    "    return prediction"
   ]
  },
  {
   "cell_type": "code",
   "execution_count": 28,
   "metadata": {},
   "outputs": [],
   "source": [
    "train_predictions = []\n",
    "train_targets = []\n",
    "for (user,movie), target in usermovie2rating.items():\n",
    "    prediction = predict(user,movie)\n",
    "    \n",
    "    train_predictions.append(prediction)\n",
    "    train_targets.append(target)\n",
    "\n",
    "test_predictions = []\n",
    "test_targets = []\n",
    "for (user,movie), target in usermovie2rating_test.items():\n",
    "    prediction = predict(user,movie)\n",
    "    \n",
    "    test_predictions.append(prediction)\n",
    "    test_targets.append(target)"
   ]
  },
  {
   "cell_type": "markdown",
   "metadata": {},
   "source": [
    "### Calculating Accuracy"
   ]
  },
  {
   "cell_type": "code",
   "execution_count": 29,
   "metadata": {},
   "outputs": [],
   "source": [
    "def mse(p,t): # Calculating the Mean Squared Error\n",
    "    p = np.array(p)\n",
    "    t = np.array(t)\n",
    "    return np.mean((p-t)**2)"
   ]
  },
  {
   "cell_type": "code",
   "execution_count": 30,
   "metadata": {},
   "outputs": [
    {
     "name": "stdout",
     "output_type": "stream",
     "text": [
      "Training MSE: 0.586\n",
      "Test MSE: 0.634\n"
     ]
    }
   ],
   "source": [
    "print(f'Training MSE: {mse(train_predictions, train_targets):.3f}')\n",
    "print(f'Test MSE: {mse(test_predictions, test_targets):.3f}')"
   ]
  },
  {
   "cell_type": "markdown",
   "metadata": {},
   "source": [
    "### Creating an Item-Item Collaborative Filtering"
   ]
  },
  {
   "cell_type": "code",
   "execution_count": 31,
   "metadata": {},
   "outputs": [],
   "source": [
    "K = 25 # maximum number of neighbors to be considered\n",
    "limit = 5 # minimum number of users shared by both movies\n",
    "neighbors_m = []\n",
    "averages_m = []\n",
    "deviations_m = []\n",
    "\n",
    "for movie in range(M): # Loop through every movie\n",
    "    users_m = movie2user[movie] # List of every movie watched by given user\n",
    "    users_m_set = set(users_m)\n",
    "    ratings_m = {user : usermovie2rating[(user,movie)] for user in users_m} # Ratings of the movie\n",
    "    average_m = np.mean(list(ratings_m.values())) # Movie's average rating\n",
    "    dev_m = {user: ratings_m[user]-average_m for user in users_m}\n",
    "    dev_m_values = np.array(list(dev_m.values()))\n",
    "    sigma_m = np.sqrt(dev_m_values.dot(dev_m_values))\n",
    "    \n",
    "    averages_m.append(average_m)\n",
    "    deviations_m.append(dev_m)\n",
    "    \n",
    "    sl = SortedList()\n",
    "    for movie2 in range(M):\n",
    "        if movie != movie2:\n",
    "            users_m2 = movie2user[movie2]\n",
    "            users_m2_set = set(users_m2)\n",
    "            common_users = (users_m_set & users_m2_set)\n",
    "            if len(common_users) > limit:\n",
    "                ratings_m2 = {user : usermovie2rating[(user,movie2)] for user in users_m2}\n",
    "                average_m2 = np.mean(list(ratings_m2.values()))\n",
    "                dev_m2 = {user: ratings_m2[user]-average_m2 for user in users_m2}\n",
    "                dev_m2_values = np.array(list(dev_m2.values()))\n",
    "                sigma_m2 = np.sqrt(dev_m2_values.dot(dev_m2_values))\n",
    "            \n",
    "            # Calculating correlation coefficient\n",
    "                numerator = sum(dev_m[u]*dev_m2[u] for u in common_users)\n",
    "                w_ij = numerator / (sigma_m*sigma_m2)\n",
    "            \n",
    "\n",
    "                sl.add((-w_ij, movie2))\n",
    "                if len(sl) > K:\n",
    "                    del sl[-1]\n",
    "    neighbors_m.append(sl)"
   ]
  },
  {
   "cell_type": "markdown",
   "metadata": {},
   "source": [
    "### Predicting Movie Ratings"
   ]
  },
  {
   "cell_type": "code",
   "execution_count": 32,
   "metadata": {},
   "outputs": [],
   "source": [
    "def predict_m(user,movie):\n",
    "    # Calculating the weighted sum of deviations\n",
    "    numerator = 0\n",
    "    denominator = 0\n",
    "    for neg_w, movie2 in neighbors_m[movie]:\n",
    "        try:\n",
    "            numerator += -neg_w * deviations_m[movie2][user]\n",
    "            denominator += abs(neg_w)\n",
    "        except:\n",
    "            # Cases where the user2 did not rate the movie user did\n",
    "            pass\n",
    "    \n",
    "    if denominator == 0:\n",
    "        # There is no way to actually predict anything, so just use the average\n",
    "        prediction = averages_m[movie]\n",
    "    else: \n",
    "        prediction = numerator / denominator + averages_m[movie]\n",
    "    prediction = min(5, prediction)\n",
    "    prediction = max(0.5, prediction)\n",
    "    \n",
    "    return prediction"
   ]
  },
  {
   "cell_type": "code",
   "execution_count": 33,
   "metadata": {},
   "outputs": [],
   "source": [
    "train_predictions_m = []\n",
    "train_targets_m = []\n",
    "for (user,movie), target in usermovie2rating.items():\n",
    "    prediction = predict_m(user,movie)\n",
    "    \n",
    "    train_predictions_m.append(prediction)\n",
    "    train_targets_m.append(target)\n",
    "\n",
    "test_predictions_m = []\n",
    "test_targets_m = []\n",
    "for (user,movie), target in usermovie2rating_test.items():\n",
    "    prediction = predict_m(user,movie)\n",
    "    \n",
    "    test_predictions_m.append(prediction)\n",
    "    test_targets_m.append(target)"
   ]
  },
  {
   "cell_type": "markdown",
   "metadata": {},
   "source": [
    "### Calculating Accuracy"
   ]
  },
  {
   "cell_type": "code",
   "execution_count": 34,
   "metadata": {},
   "outputs": [
    {
     "name": "stdout",
     "output_type": "stream",
     "text": [
      "Training MSE: 0.445\n",
      "Test MSE: 0.563\n"
     ]
    }
   ],
   "source": [
    "print(f'Training MSE: {mse(train_predictions_m, train_targets_m):.3f}')\n",
    "print(f'Test MSE: {mse(test_predictions_m, test_targets_m):.3f}')"
   ]
  }
 ],
 "metadata": {
  "kernelspec": {
   "display_name": "Python 3",
   "language": "python",
   "name": "python3"
  },
  "language_info": {
   "codemirror_mode": {
    "name": "ipython",
    "version": 3
   },
   "file_extension": ".py",
   "mimetype": "text/x-python",
   "name": "python",
   "nbconvert_exporter": "python",
   "pygments_lexer": "ipython3",
   "version": "3.6.9"
  }
 },
 "nbformat": 4,
 "nbformat_minor": 2
}
