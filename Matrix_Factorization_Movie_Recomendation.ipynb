{
 "cells": [
  {
   "cell_type": "markdown",
   "metadata": {},
   "source": [
    "# Movie Recommendation System"
   ]
  },
  {
   "cell_type": "markdown",
   "metadata": {},
   "source": [
    "### Importing necessary modules"
   ]
  },
  {
   "cell_type": "code",
   "execution_count": 1,
   "metadata": {},
   "outputs": [],
   "source": [
    "import pandas as pd\n",
    "import numpy as np\n",
    "import os\n",
    "from sklearn.utils import shuffle\n",
    "from sortedcontainers import SortedList\n",
    "from multiprocessing import Pool, Manager\n",
    "import multiprocessing"
   ]
  },
  {
   "cell_type": "markdown",
   "metadata": {},
   "source": [
    "### Reading the CSV file"
   ]
  },
  {
   "cell_type": "code",
   "execution_count": 2,
   "metadata": {},
   "outputs": [],
   "source": [
    "os.chdir('../movielens-20m-dataset')"
   ]
  },
  {
   "cell_type": "code",
   "execution_count": 3,
   "metadata": {},
   "outputs": [],
   "source": [
    "df = pd.read_csv('rating.csv')"
   ]
  },
  {
   "cell_type": "markdown",
   "metadata": {},
   "source": [
    "### Exploring the DataFrame"
   ]
  },
  {
   "cell_type": "code",
   "execution_count": 4,
   "metadata": {},
   "outputs": [
    {
     "data": {
      "text/html": [
       "<div>\n",
       "<style scoped>\n",
       "    .dataframe tbody tr th:only-of-type {\n",
       "        vertical-align: middle;\n",
       "    }\n",
       "\n",
       "    .dataframe tbody tr th {\n",
       "        vertical-align: top;\n",
       "    }\n",
       "\n",
       "    .dataframe thead th {\n",
       "        text-align: right;\n",
       "    }\n",
       "</style>\n",
       "<table border=\"1\" class=\"dataframe\">\n",
       "  <thead>\n",
       "    <tr style=\"text-align: right;\">\n",
       "      <th></th>\n",
       "      <th>userId</th>\n",
       "      <th>movieId</th>\n",
       "      <th>rating</th>\n",
       "      <th>timestamp</th>\n",
       "    </tr>\n",
       "  </thead>\n",
       "  <tbody>\n",
       "    <tr>\n",
       "      <th>0</th>\n",
       "      <td>1</td>\n",
       "      <td>2</td>\n",
       "      <td>3.5</td>\n",
       "      <td>2005-04-02 23:53:47</td>\n",
       "    </tr>\n",
       "    <tr>\n",
       "      <th>1</th>\n",
       "      <td>1</td>\n",
       "      <td>29</td>\n",
       "      <td>3.5</td>\n",
       "      <td>2005-04-02 23:31:16</td>\n",
       "    </tr>\n",
       "    <tr>\n",
       "      <th>2</th>\n",
       "      <td>1</td>\n",
       "      <td>32</td>\n",
       "      <td>3.5</td>\n",
       "      <td>2005-04-02 23:33:39</td>\n",
       "    </tr>\n",
       "    <tr>\n",
       "      <th>3</th>\n",
       "      <td>1</td>\n",
       "      <td>47</td>\n",
       "      <td>3.5</td>\n",
       "      <td>2005-04-02 23:32:07</td>\n",
       "    </tr>\n",
       "    <tr>\n",
       "      <th>4</th>\n",
       "      <td>1</td>\n",
       "      <td>50</td>\n",
       "      <td>3.5</td>\n",
       "      <td>2005-04-02 23:29:40</td>\n",
       "    </tr>\n",
       "  </tbody>\n",
       "</table>\n",
       "</div>"
      ],
      "text/plain": [
       "   userId  movieId  rating            timestamp\n",
       "0       1        2     3.5  2005-04-02 23:53:47\n",
       "1       1       29     3.5  2005-04-02 23:31:16\n",
       "2       1       32     3.5  2005-04-02 23:33:39\n",
       "3       1       47     3.5  2005-04-02 23:32:07\n",
       "4       1       50     3.5  2005-04-02 23:29:40"
      ]
     },
     "execution_count": 4,
     "metadata": {},
     "output_type": "execute_result"
    }
   ],
   "source": [
    "df.head()"
   ]
  },
  {
   "cell_type": "code",
   "execution_count": 5,
   "metadata": {
    "scrolled": true
   },
   "outputs": [
    {
     "data": {
      "text/html": [
       "<div>\n",
       "<style scoped>\n",
       "    .dataframe tbody tr th:only-of-type {\n",
       "        vertical-align: middle;\n",
       "    }\n",
       "\n",
       "    .dataframe tbody tr th {\n",
       "        vertical-align: top;\n",
       "    }\n",
       "\n",
       "    .dataframe thead th {\n",
       "        text-align: right;\n",
       "    }\n",
       "</style>\n",
       "<table border=\"1\" class=\"dataframe\">\n",
       "  <thead>\n",
       "    <tr style=\"text-align: right;\">\n",
       "      <th></th>\n",
       "      <th>userId</th>\n",
       "      <th>movieId</th>\n",
       "      <th>rating</th>\n",
       "    </tr>\n",
       "  </thead>\n",
       "  <tbody>\n",
       "    <tr>\n",
       "      <th>count</th>\n",
       "      <td>2.000026e+07</td>\n",
       "      <td>2.000026e+07</td>\n",
       "      <td>2.000026e+07</td>\n",
       "    </tr>\n",
       "    <tr>\n",
       "      <th>mean</th>\n",
       "      <td>6.904587e+04</td>\n",
       "      <td>9.041567e+03</td>\n",
       "      <td>3.525529e+00</td>\n",
       "    </tr>\n",
       "    <tr>\n",
       "      <th>std</th>\n",
       "      <td>4.003863e+04</td>\n",
       "      <td>1.978948e+04</td>\n",
       "      <td>1.051989e+00</td>\n",
       "    </tr>\n",
       "    <tr>\n",
       "      <th>min</th>\n",
       "      <td>1.000000e+00</td>\n",
       "      <td>1.000000e+00</td>\n",
       "      <td>5.000000e-01</td>\n",
       "    </tr>\n",
       "    <tr>\n",
       "      <th>25%</th>\n",
       "      <td>3.439500e+04</td>\n",
       "      <td>9.020000e+02</td>\n",
       "      <td>3.000000e+00</td>\n",
       "    </tr>\n",
       "    <tr>\n",
       "      <th>50%</th>\n",
       "      <td>6.914100e+04</td>\n",
       "      <td>2.167000e+03</td>\n",
       "      <td>3.500000e+00</td>\n",
       "    </tr>\n",
       "    <tr>\n",
       "      <th>75%</th>\n",
       "      <td>1.036370e+05</td>\n",
       "      <td>4.770000e+03</td>\n",
       "      <td>4.000000e+00</td>\n",
       "    </tr>\n",
       "    <tr>\n",
       "      <th>max</th>\n",
       "      <td>1.384930e+05</td>\n",
       "      <td>1.312620e+05</td>\n",
       "      <td>5.000000e+00</td>\n",
       "    </tr>\n",
       "  </tbody>\n",
       "</table>\n",
       "</div>"
      ],
      "text/plain": [
       "             userId       movieId        rating\n",
       "count  2.000026e+07  2.000026e+07  2.000026e+07\n",
       "mean   6.904587e+04  9.041567e+03  3.525529e+00\n",
       "std    4.003863e+04  1.978948e+04  1.051989e+00\n",
       "min    1.000000e+00  1.000000e+00  5.000000e-01\n",
       "25%    3.439500e+04  9.020000e+02  3.000000e+00\n",
       "50%    6.914100e+04  2.167000e+03  3.500000e+00\n",
       "75%    1.036370e+05  4.770000e+03  4.000000e+00\n",
       "max    1.384930e+05  1.312620e+05  5.000000e+00"
      ]
     },
     "execution_count": 5,
     "metadata": {},
     "output_type": "execute_result"
    }
   ],
   "source": [
    "df.describe()"
   ]
  },
  {
   "cell_type": "code",
   "execution_count": 6,
   "metadata": {},
   "outputs": [],
   "source": [
    "n_users = df.userId.nunique()"
   ]
  },
  {
   "cell_type": "code",
   "execution_count": 7,
   "metadata": {},
   "outputs": [],
   "source": [
    "n_movies = df.movieId.nunique()"
   ]
  },
  {
   "cell_type": "code",
   "execution_count": 8,
   "metadata": {},
   "outputs": [
    {
     "data": {
      "text/plain": [
       "3703856792"
      ]
     },
     "execution_count": 8,
     "metadata": {},
     "output_type": "execute_result"
    }
   ],
   "source": [
    "n_users*n_movies"
   ]
  },
  {
   "cell_type": "markdown",
   "metadata": {},
   "source": [
    "### Data Preprocessing"
   ]
  },
  {
   "cell_type": "code",
   "execution_count": 9,
   "metadata": {},
   "outputs": [],
   "source": [
    "# Making sure that userId indexes start at 1\n",
    "# The maximum userId Value from the describe function equals the unique number of IDs, so they are sequential\n",
    "df.userId = df.userId - 1"
   ]
  },
  {
   "cell_type": "code",
   "execution_count": 10,
   "metadata": {},
   "outputs": [
    {
     "data": {
      "text/html": [
       "<div>\n",
       "<style scoped>\n",
       "    .dataframe tbody tr th:only-of-type {\n",
       "        vertical-align: middle;\n",
       "    }\n",
       "\n",
       "    .dataframe tbody tr th {\n",
       "        vertical-align: top;\n",
       "    }\n",
       "\n",
       "    .dataframe thead th {\n",
       "        text-align: right;\n",
       "    }\n",
       "</style>\n",
       "<table border=\"1\" class=\"dataframe\">\n",
       "  <thead>\n",
       "    <tr style=\"text-align: right;\">\n",
       "      <th></th>\n",
       "      <th>userId</th>\n",
       "      <th>movieId</th>\n",
       "      <th>rating</th>\n",
       "      <th>timestamp</th>\n",
       "    </tr>\n",
       "  </thead>\n",
       "  <tbody>\n",
       "    <tr>\n",
       "      <th>0</th>\n",
       "      <td>0</td>\n",
       "      <td>2</td>\n",
       "      <td>3.5</td>\n",
       "      <td>2005-04-02 23:53:47</td>\n",
       "    </tr>\n",
       "    <tr>\n",
       "      <th>1</th>\n",
       "      <td>0</td>\n",
       "      <td>29</td>\n",
       "      <td>3.5</td>\n",
       "      <td>2005-04-02 23:31:16</td>\n",
       "    </tr>\n",
       "    <tr>\n",
       "      <th>2</th>\n",
       "      <td>0</td>\n",
       "      <td>32</td>\n",
       "      <td>3.5</td>\n",
       "      <td>2005-04-02 23:33:39</td>\n",
       "    </tr>\n",
       "    <tr>\n",
       "      <th>3</th>\n",
       "      <td>0</td>\n",
       "      <td>47</td>\n",
       "      <td>3.5</td>\n",
       "      <td>2005-04-02 23:32:07</td>\n",
       "    </tr>\n",
       "    <tr>\n",
       "      <th>4</th>\n",
       "      <td>0</td>\n",
       "      <td>50</td>\n",
       "      <td>3.5</td>\n",
       "      <td>2005-04-02 23:29:40</td>\n",
       "    </tr>\n",
       "  </tbody>\n",
       "</table>\n",
       "</div>"
      ],
      "text/plain": [
       "   userId  movieId  rating            timestamp\n",
       "0       0        2     3.5  2005-04-02 23:53:47\n",
       "1       0       29     3.5  2005-04-02 23:31:16\n",
       "2       0       32     3.5  2005-04-02 23:33:39\n",
       "3       0       47     3.5  2005-04-02 23:32:07\n",
       "4       0       50     3.5  2005-04-02 23:29:40"
      ]
     },
     "execution_count": 10,
     "metadata": {},
     "output_type": "execute_result"
    }
   ],
   "source": [
    "df.head()"
   ]
  },
  {
   "cell_type": "code",
   "execution_count": 11,
   "metadata": {},
   "outputs": [],
   "source": [
    "# Making sure that movieId are sequential\n",
    "# The maximum movieId value from the descrive function does'nt match the number of unique IDs, so they are NOT seq.\n",
    "\n",
    "# First step: Getting the unique values from movieIds\n",
    "uniq_mov_id = set(df.movieId)\n",
    "\n",
    "# Second step: Creating a dictionary that matches old Id values with sequential values.\n",
    "mov_dic = {}\n",
    "count = 0\n",
    "for mov_id in uniq_mov_id:\n",
    "    mov_dic[mov_id] = count\n",
    "    count+=1\n",
    "\n",
    "# Third step: Mapping the old values to the new sequential values\n",
    "new_values = []\n",
    "for old_val in df.movieId.values:\n",
    "    new_values.append(mov_dic[old_val])\n",
    "\n",
    "df['seq_movieId'] = new_values"
   ]
  },
  {
   "cell_type": "code",
   "execution_count": 12,
   "metadata": {},
   "outputs": [
    {
     "data": {
      "text/html": [
       "<div>\n",
       "<style scoped>\n",
       "    .dataframe tbody tr th:only-of-type {\n",
       "        vertical-align: middle;\n",
       "    }\n",
       "\n",
       "    .dataframe tbody tr th {\n",
       "        vertical-align: top;\n",
       "    }\n",
       "\n",
       "    .dataframe thead th {\n",
       "        text-align: right;\n",
       "    }\n",
       "</style>\n",
       "<table border=\"1\" class=\"dataframe\">\n",
       "  <thead>\n",
       "    <tr style=\"text-align: right;\">\n",
       "      <th></th>\n",
       "      <th>userId</th>\n",
       "      <th>movieId</th>\n",
       "      <th>rating</th>\n",
       "      <th>timestamp</th>\n",
       "      <th>seq_movieId</th>\n",
       "    </tr>\n",
       "  </thead>\n",
       "  <tbody>\n",
       "    <tr>\n",
       "      <th>0</th>\n",
       "      <td>0</td>\n",
       "      <td>2</td>\n",
       "      <td>3.5</td>\n",
       "      <td>2005-04-02 23:53:47</td>\n",
       "      <td>2</td>\n",
       "    </tr>\n",
       "    <tr>\n",
       "      <th>1</th>\n",
       "      <td>0</td>\n",
       "      <td>29</td>\n",
       "      <td>3.5</td>\n",
       "      <td>2005-04-02 23:31:16</td>\n",
       "      <td>29</td>\n",
       "    </tr>\n",
       "    <tr>\n",
       "      <th>2</th>\n",
       "      <td>0</td>\n",
       "      <td>32</td>\n",
       "      <td>3.5</td>\n",
       "      <td>2005-04-02 23:33:39</td>\n",
       "      <td>32</td>\n",
       "    </tr>\n",
       "    <tr>\n",
       "      <th>3</th>\n",
       "      <td>0</td>\n",
       "      <td>47</td>\n",
       "      <td>3.5</td>\n",
       "      <td>2005-04-02 23:32:07</td>\n",
       "      <td>47</td>\n",
       "    </tr>\n",
       "    <tr>\n",
       "      <th>4</th>\n",
       "      <td>0</td>\n",
       "      <td>50</td>\n",
       "      <td>3.5</td>\n",
       "      <td>2005-04-02 23:29:40</td>\n",
       "      <td>50</td>\n",
       "    </tr>\n",
       "  </tbody>\n",
       "</table>\n",
       "</div>"
      ],
      "text/plain": [
       "   userId  movieId  rating            timestamp  seq_movieId\n",
       "0       0        2     3.5  2005-04-02 23:53:47            2\n",
       "1       0       29     3.5  2005-04-02 23:31:16           29\n",
       "2       0       32     3.5  2005-04-02 23:33:39           32\n",
       "3       0       47     3.5  2005-04-02 23:32:07           47\n",
       "4       0       50     3.5  2005-04-02 23:29:40           50"
      ]
     },
     "execution_count": 12,
     "metadata": {},
     "output_type": "execute_result"
    }
   ],
   "source": [
    "df.head()"
   ]
  },
  {
   "cell_type": "markdown",
   "metadata": {},
   "source": [
    "### Dropping the irrelevant (in this experiment) timestamp column"
   ]
  },
  {
   "cell_type": "code",
   "execution_count": 13,
   "metadata": {},
   "outputs": [
    {
     "data": {
      "text/html": [
       "<div>\n",
       "<style scoped>\n",
       "    .dataframe tbody tr th:only-of-type {\n",
       "        vertical-align: middle;\n",
       "    }\n",
       "\n",
       "    .dataframe tbody tr th {\n",
       "        vertical-align: top;\n",
       "    }\n",
       "\n",
       "    .dataframe thead th {\n",
       "        text-align: right;\n",
       "    }\n",
       "</style>\n",
       "<table border=\"1\" class=\"dataframe\">\n",
       "  <thead>\n",
       "    <tr style=\"text-align: right;\">\n",
       "      <th></th>\n",
       "      <th>userId</th>\n",
       "      <th>movieId</th>\n",
       "      <th>rating</th>\n",
       "      <th>seq_movieId</th>\n",
       "    </tr>\n",
       "  </thead>\n",
       "  <tbody>\n",
       "    <tr>\n",
       "      <th>0</th>\n",
       "      <td>0</td>\n",
       "      <td>2</td>\n",
       "      <td>3.5</td>\n",
       "      <td>2</td>\n",
       "    </tr>\n",
       "    <tr>\n",
       "      <th>1</th>\n",
       "      <td>0</td>\n",
       "      <td>29</td>\n",
       "      <td>3.5</td>\n",
       "      <td>29</td>\n",
       "    </tr>\n",
       "    <tr>\n",
       "      <th>2</th>\n",
       "      <td>0</td>\n",
       "      <td>32</td>\n",
       "      <td>3.5</td>\n",
       "      <td>32</td>\n",
       "    </tr>\n",
       "    <tr>\n",
       "      <th>3</th>\n",
       "      <td>0</td>\n",
       "      <td>47</td>\n",
       "      <td>3.5</td>\n",
       "      <td>47</td>\n",
       "    </tr>\n",
       "    <tr>\n",
       "      <th>4</th>\n",
       "      <td>0</td>\n",
       "      <td>50</td>\n",
       "      <td>3.5</td>\n",
       "      <td>50</td>\n",
       "    </tr>\n",
       "    <tr>\n",
       "      <th>...</th>\n",
       "      <td>...</td>\n",
       "      <td>...</td>\n",
       "      <td>...</td>\n",
       "      <td>...</td>\n",
       "    </tr>\n",
       "    <tr>\n",
       "      <th>20000258</th>\n",
       "      <td>138492</td>\n",
       "      <td>68954</td>\n",
       "      <td>4.5</td>\n",
       "      <td>13821</td>\n",
       "    </tr>\n",
       "    <tr>\n",
       "      <th>20000259</th>\n",
       "      <td>138492</td>\n",
       "      <td>69526</td>\n",
       "      <td>4.5</td>\n",
       "      <td>13929</td>\n",
       "    </tr>\n",
       "    <tr>\n",
       "      <th>20000260</th>\n",
       "      <td>138492</td>\n",
       "      <td>69644</td>\n",
       "      <td>3.0</td>\n",
       "      <td>13942</td>\n",
       "    </tr>\n",
       "    <tr>\n",
       "      <th>20000261</th>\n",
       "      <td>138492</td>\n",
       "      <td>70286</td>\n",
       "      <td>5.0</td>\n",
       "      <td>14060</td>\n",
       "    </tr>\n",
       "    <tr>\n",
       "      <th>20000262</th>\n",
       "      <td>138492</td>\n",
       "      <td>71619</td>\n",
       "      <td>2.5</td>\n",
       "      <td>14344</td>\n",
       "    </tr>\n",
       "  </tbody>\n",
       "</table>\n",
       "<p>20000263 rows × 4 columns</p>\n",
       "</div>"
      ],
      "text/plain": [
       "          userId  movieId  rating  seq_movieId\n",
       "0              0        2     3.5            2\n",
       "1              0       29     3.5           29\n",
       "2              0       32     3.5           32\n",
       "3              0       47     3.5           47\n",
       "4              0       50     3.5           50\n",
       "...          ...      ...     ...          ...\n",
       "20000258  138492    68954     4.5        13821\n",
       "20000259  138492    69526     4.5        13929\n",
       "20000260  138492    69644     3.0        13942\n",
       "20000261  138492    70286     5.0        14060\n",
       "20000262  138492    71619     2.5        14344\n",
       "\n",
       "[20000263 rows x 4 columns]"
      ]
     },
     "execution_count": 13,
     "metadata": {},
     "output_type": "execute_result"
    }
   ],
   "source": [
    "df.drop('timestamp',axis=1)"
   ]
  },
  {
   "cell_type": "markdown",
   "metadata": {},
   "source": [
    "### Saving the Preprocessed DataFrame into a CSV file"
   ]
  },
  {
   "cell_type": "code",
   "execution_count": 14,
   "metadata": {},
   "outputs": [],
   "source": [
    "df.to_csv('edited_rating.csv') "
   ]
  },
  {
   "cell_type": "markdown",
   "metadata": {},
   "source": [
    "### Separating the Data into Training and Test sets"
   ]
  },
  {
   "cell_type": "code",
   "execution_count": 15,
   "metadata": {},
   "outputs": [],
   "source": [
    "# Step 1: Shuffle the DataFrame\n",
    "df = shuffle(df).reset_index(drop=True)\n",
    "\n",
    "# Step 2: Determine the Train/Test split ratio\n",
    "ratio = 0.80\n",
    "cutoff = int(ratio*len(df))\n",
    "\n",
    "# Step 3: Create the Train and Test DataFrames\n",
    "\n",
    "df_train = df[:cutoff].reset_index(drop=True)\n",
    "df_test = df[cutoff:].reset_index(drop=True)"
   ]
  },
  {
   "cell_type": "markdown",
   "metadata": {},
   "source": [
    "### Creating dictionaries of Users that rated Movies and Movies that were rated by Users"
   ]
  },
  {
   "cell_type": "code",
   "execution_count": 16,
   "metadata": {},
   "outputs": [],
   "source": [
    "def fill_train(split):\n",
    "    user2movie = {}\n",
    "    movie2user = {}\n",
    "    usermovie2rating = {}\n",
    "    df_s = df_train.iloc[split[0]: split[1] + 1,:]\n",
    "    for index, row in df_s.iterrows():\n",
    "        user = row.userId\n",
    "        movie = row.seq_movieId\n",
    "        rating = row.rating\n",
    "        if user not in user2movie:\n",
    "            user2movie[user] = [movie]\n",
    "        else:\n",
    "            user2movie[user].append(movie)\n",
    "\n",
    "        if movie not in movie2user:\n",
    "            movie2user[movie] = [user]\n",
    "        else:\n",
    "            movie2user[movie].append(user)\n",
    "        \n",
    "        usermovie2rating[(user,movie)] = rating\n",
    "    return [user2movie, movie2user, usermovie2rating]"
   ]
  },
  {
   "cell_type": "code",
   "execution_count": 17,
   "metadata": {},
   "outputs": [],
   "source": [
    "def fill_test(split):\n",
    "    usermovie2rating_test = {}\n",
    "    df_s = df_test.iloc[split[0]: split[1] + 1,:]\n",
    "    for index, row in df_s.iterrows():\n",
    "        user = row.userId\n",
    "        movie = row.seq_movieId\n",
    "        rating = row.rating\n",
    "        \n",
    "        usermovie2rating_test[(user,movie)] = rating\n",
    "    return [usermovie2rating_test]"
   ]
  },
  {
   "cell_type": "code",
   "execution_count": 18,
   "metadata": {},
   "outputs": [],
   "source": [
    "# As working with the full DataFrame is very slow, multi processing will be used\n",
    "n_cpu = multiprocessing.cpu_count()\n",
    "\n",
    "def get_splits(x,n):\n",
    "    a= np.array_split(range(len(np.array(x))),n)\n",
    "    return [[i[0],i[-1]] for i in a]\n",
    "\n",
    "train_splits = get_splits(df_train,n_cpu)\n",
    "test_splits = get_splits(df_test,n_cpu)"
   ]
  },
  {
   "cell_type": "code",
   "execution_count": 19,
   "metadata": {},
   "outputs": [],
   "source": [
    "p = Pool(n_cpu)\n",
    "dicts = [i for i in p.map(fill_train, train_splits)]\n",
    "p.close()\n",
    "p.join()"
   ]
  },
  {
   "cell_type": "code",
   "execution_count": 20,
   "metadata": {},
   "outputs": [],
   "source": [
    "user2movie = dicts[0][0].copy()\n",
    "for i in range(1,len(dicts)):\n",
    "    for user,movies in dicts[i][0].items():\n",
    "        if user not in user2movie:\n",
    "            user2movie[user] = movies\n",
    "        else:\n",
    "            user2movie[user].extend(movies)\n",
    "        \n",
    "movie2user = dicts[0][1].copy()\n",
    "for i in range(1,len(dicts)):\n",
    "    for movie,users in dicts[i][1].items():\n",
    "        if movie not in movie2user:\n",
    "            movie2user[movie] = users\n",
    "        else:\n",
    "            movie2user[movie].extend(users)\n",
    "\n",
    "usermovie2rating = dicts[0][2].copy()\n",
    "for i in range(1,len(dicts)):\n",
    "    for (user,movie),rating in dicts[i][2].items():\n",
    "        if (user,movie) not in usermovie2rating:\n",
    "            usermovie2rating[(user,movie)] = rating\n",
    "        else:\n",
    "            usermovie2rating[(user,movie)].append(rating)\n",
    "\n",
    "dicts = []"
   ]
  },
  {
   "cell_type": "code",
   "execution_count": 21,
   "metadata": {},
   "outputs": [],
   "source": [
    "p = Pool(n_cpu)\n",
    "dicts = [i for i in p.map(fill_test, test_splits)]\n",
    "p.close()\n",
    "p.join()\n",
    "\n",
    "usermovie2rating_test = dicts[0][0].copy()\n",
    "for i in range(1,len(dicts)):\n",
    "    for (user,movie),rating in dicts[i][0].items():\n",
    "        if (user,movie) not in usermovie2rating_test:\n",
    "            usermovie2rating_test[(user,movie)] = rating\n",
    "        else:\n",
    "            usermovie2rating_test[(user,movie)].append(rating)\n",
    "\n",
    "dicts = []"
   ]
  },
  {
   "cell_type": "code",
   "execution_count": 22,
   "metadata": {},
   "outputs": [],
   "source": [
    "N = len(set(df.userId.values)) # Number of unique users\n",
    "M = len(set(df.seq_movieId.values)) # Number of unique movies"
   ]
  },
  {
   "cell_type": "code",
   "execution_count": 23,
   "metadata": {},
   "outputs": [],
   "source": [
    "user2movierating = {}\n",
    "for user, movies in user2movie.items():\n",
    "    r = np.array([usermovie2rating[(user,movie)] for movie in movies])\n",
    "    user2movierating[user] = (movies, r)\n",
    "movie2userrating = {}\n",
    "for movie, users in movie2user.items():\n",
    "    r = np.array([usermovie2rating[(user,movie)] for user in users])\n",
    "    movie2userrating[movie] = (users, r)\n",
    "    \n",
    "movie2userrating_test = {}\n",
    "for (user,movie), r in usermovie2rating_test.items():\n",
    "    if movie not in movie2userrating_test:\n",
    "        movie2userrating_test[movie] = [[user], [r]]\n",
    "    else:\n",
    "        movie2userrating_test[movie][0].append(user)\n",
    "        movie2userrating_test[movie][1].append(r)\n",
    "for movie, (users, r) in movie2userrating_test.items():\n",
    "    movie2userrating_test[movie][1] = np.array(r)"
   ]
  },
  {
   "cell_type": "markdown",
   "metadata": {},
   "source": [
    "### Matrix Factorization and Model Creation"
   ]
  },
  {
   "cell_type": "code",
   "execution_count": 24,
   "metadata": {},
   "outputs": [
    {
     "name": "stdout",
     "output_type": "stream",
     "text": [
      "Epoch 0\n",
      "Train Loss: 0.791, Test Loss 0.971\n",
      "Epoch 1\n",
      "Train Loss: 0.641, Test Loss 0.829\n",
      "Epoch 2\n",
      "Train Loss: 0.601, Test Loss 0.826\n",
      "Epoch 3\n",
      "Train Loss: 0.573, Test Loss 0.792\n",
      "Epoch 4\n",
      "Train Loss: 0.554, Test Loss 0.769\n",
      "Epoch 5\n",
      "Train Loss: 0.541, Test Loss 0.742\n",
      "Epoch 6\n",
      "Train Loss: 0.533, Test Loss 0.731\n",
      "Epoch 7\n",
      "Train Loss: 0.528, Test Loss 0.719\n",
      "Epoch 8\n",
      "Train Loss: 0.524, Test Loss 0.715\n",
      "Epoch 9\n",
      "Train Loss: 0.521, Test Loss 0.707\n",
      "Epoch 10\n",
      "Train Loss: 0.519, Test Loss 0.706\n",
      "Epoch 11\n",
      "Train Loss: 0.517, Test Loss 0.700\n",
      "Epoch 12\n",
      "Train Loss: 0.516, Test Loss 0.700\n",
      "Epoch 13\n",
      "Train Loss: 0.514, Test Loss 0.696\n",
      "Epoch 14\n",
      "Train Loss: 0.514, Test Loss 0.697\n",
      "Epoch 15\n",
      "Train Loss: 0.513, Test Loss 0.693\n",
      "Epoch 16\n",
      "Train Loss: 0.512, Test Loss 0.695\n",
      "Epoch 17\n",
      "Train Loss: 0.511, Test Loss 0.691\n",
      "Epoch 18\n",
      "Train Loss: 0.511, Test Loss 0.693\n",
      "Epoch 19\n",
      "Train Loss: 0.510, Test Loss 0.690\n",
      "Epoch 20\n",
      "Train Loss: 0.510, Test Loss 0.692\n",
      "Epoch 21\n",
      "Train Loss: 0.510, Test Loss 0.689\n",
      "Epoch 22\n",
      "Train Loss: 0.509, Test Loss 0.691\n",
      "Epoch 23\n",
      "Train Loss: 0.509, Test Loss 0.688\n",
      "Epoch 24\n",
      "Train Loss: 0.509, Test Loss 0.690\n"
     ]
    }
   ],
   "source": [
    "K = 10 # latent dimensionality\n",
    "W = np.random.randn(N,K)\n",
    "b = np.zeros(N) # user bias\n",
    "U = np.random.randn(M,K)\n",
    "c = np.zeros(M) # movie bias\n",
    "mu = np.mean(list(usermovie2rating.values())) # global average\n",
    "\n",
    "\n",
    "def loss_function(m2ur):\n",
    "    N = 0\n",
    "    sse = 0 # Sum of squared errors\n",
    "    for movie, (u_ids, r) in m2ur.items():\n",
    "        p = W[u_ids].dot(U[movie]) + b[u_ids] + c[movie] + mu\n",
    "        delta = p - r\n",
    "        sse += delta.dot(delta)\n",
    "        N += len(r)\n",
    "    return sse / N # Mean squared error\n",
    "\n",
    "# Training\n",
    "epochs = 25\n",
    "reg = 0.1 # Regularization penalty\n",
    "train_losses = []\n",
    "test_losses = []\n",
    "for epoch in range(epochs):\n",
    "    print(\"Epoch\", epoch)\n",
    "    for user in range(N):\n",
    "        try:\n",
    "            m_ids, r = user2movierating[user]\n",
    "            matrix = U[m_ids].T.dot(U[m_ids]) + np.eye(K) * reg\n",
    "            vector = (r - b[user] - c[m_ids] - mu).dot(U[m_ids])\n",
    "            b_u = (r - U[m_ids].dot(W[user]) - mu).sum()\n",
    "\n",
    "            # Updating the variables\n",
    "            W[user] = np.linalg.solve(matrix,vector)\n",
    "            b[user] = b_u / (len(user2movie[user]) + reg)\n",
    "        except:\n",
    "            pass\n",
    "\n",
    "    for movie in range(M):\n",
    "        try:\n",
    "            u_ids, r = movie2userrating[movie]\n",
    "            matrix = W[u_ids].T.dot(W[u_ids]) + np.eye(K) * reg\n",
    "            vector = (r - b[u_ids] - c[movie] - mu).dot(W[u_ids])\n",
    "            c_m = (r - W[u_ids].dot(U[movie]) - b[u_ids] - mu).sum()\n",
    "            \n",
    "            # Updating the variables\n",
    "            U[movie] = np.linalg.solve(matrix,vector)\n",
    "            c[movie] = c_m / (len(movie2user[movie]) + reg)\n",
    "        except:\n",
    "            pass\n",
    "        \n",
    "    train_losses.append(loss_function(movie2userrating))\n",
    "    test_losses.append(loss_function(movie2userrating_test))\n",
    "    print(f\"Train Loss: {train_losses[-1]:.3f}, Test Loss {test_losses[-1]:.3f}\")\n",
    "    "
   ]
  }
 ],
 "metadata": {
  "kernelspec": {
   "display_name": "Python 3",
   "language": "python",
   "name": "python3"
  },
  "language_info": {
   "codemirror_mode": {
    "name": "ipython",
    "version": 3
   },
   "file_extension": ".py",
   "mimetype": "text/x-python",
   "name": "python",
   "nbconvert_exporter": "python",
   "pygments_lexer": "ipython3",
   "version": "3.6.9"
  }
 },
 "nbformat": 4,
 "nbformat_minor": 2
}
